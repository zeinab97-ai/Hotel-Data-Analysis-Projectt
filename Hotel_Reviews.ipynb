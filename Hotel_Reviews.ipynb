{
  "nbformat": 4,
  "nbformat_minor": 0,
  "metadata": {
    "colab": {
      "provenance": [],
      "authorship_tag": "ABX9TyOZJsrvlFoLVlu9puEWjSNX",
      "include_colab_link": true
    },
    "kernelspec": {
      "name": "python3",
      "display_name": "Python 3"
    },
    "language_info": {
      "name": "python"
    }
  },
  "cells": [
    {
      "cell_type": "markdown",
      "metadata": {
        "id": "view-in-github",
        "colab_type": "text"
      },
      "source": [
        "<a href=\"https://colab.research.google.com/github/zeinab97-ai/Hotel-Data-Analysis-Projectt/blob/main/Hotel_Reviews.ipynb\" target=\"_parent\"><img src=\"https://colab.research.google.com/assets/colab-badge.svg\" alt=\"Open In Colab\"/></a>"
      ]
    },
    {
      "cell_type": "code",
      "execution_count": null,
      "metadata": {
        "id": "RWQKfl-6wLgQ"
      },
      "outputs": [],
      "source": [
        "# تثبيت المكتبات\n",
        "!pip install transformers\n",
        "!pip install torch"
      ]
    },
    {
      "cell_type": "code",
      "source": [
        "from transformers import pipeline\n",
        "\n",
        "# تحميل نموذج التحليل العاطفي\n",
        "sentiment_pipeline = pipeline(\"sentiment-analysis\")"
      ],
      "metadata": {
        "id": "h9cfhScXwNpj"
      },
      "execution_count": null,
      "outputs": []
    },
    {
      "cell_type": "code",
      "source": [
        "# تجربة بسيطة\n",
        "result = sentiment_pipeline(\"I love this hotel, it was amazing!\")\n",
        "print(result)"
      ],
      "metadata": {
        "id": "F9FziIb8xFBR"
      },
      "execution_count": null,
      "outputs": []
    },
    {
      "cell_type": "code",
      "source": [
        "# واجهة تفاعلية للمستخدم\n",
        "text = input(\"أدخل النص لتحليل المشاعر: \")\n",
        "result = sentiment_pipeline(text)\n",
        "print(f\"النتيجة: {result[0]['label']} (نسبة الثقة: {round(result[0]['score'], 2)})\")"
      ],
      "metadata": {
        "id": "8Z_4Q0gawU2f"
      },
      "execution_count": null,
      "outputs": []
    },
    {
      "cell_type": "code",
      "source": [
        "!pip install gradio"
      ],
      "metadata": {
        "id": "Zb3A-OkKxuGW"
      },
      "execution_count": null,
      "outputs": []
    },
    {
      "cell_type": "code",
      "source": [
        "import gradio as gr\n",
        "\n",
        "# Sentiment prediction function\n",
        "def analyze_sentiment(text):\n",
        "    result = sentiment_pipeline(text)[0]\n",
        "    label = result['label']\n",
        "    score = round(result['score'], 2)\n",
        "    return f\"Prediction: {label}\\nConfidence: {score}\"\n",
        "\n",
        "# Build the Gradio interface\n",
        "interface = gr.Interface(\n",
        "    fn=analyze_sentiment,\n",
        "    inputs=gr.Textbox(lines=3, placeholder=\"Enter a hotel review...\"),\n",
        "    outputs=\"text\",\n",
        "    title=\"Hotel Review Sentiment Analyzer\",\n",
        "    description=\"This tool uses a pre-trained model to classify your hotel review as POSITIVE or NEGATIVE sentiment.\"\n",
        ")\n",
        "\n",
        "# Launch the interface\n",
        "interface.launch(share=True)"
      ],
      "metadata": {
        "id": "eAmMRMB7yFpU"
      },
      "execution_count": null,
      "outputs": []
    }
  ]
}